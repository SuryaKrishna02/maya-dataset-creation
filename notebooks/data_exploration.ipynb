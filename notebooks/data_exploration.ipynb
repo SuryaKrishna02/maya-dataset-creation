{
 "cells": [
  {
   "cell_type": "markdown",
   "id": "9e37a3de-b1ec-46b1-b98d-75b6484311a7",
   "metadata": {},
   "source": [
    "## FYI Cohere Aya23 Model API"
   ]
  },
  {
   "cell_type": "markdown",
   "id": "03dbaa79-39d2-4a54-852e-8c6cd7d5d40c",
   "metadata": {},
   "source": [
    "- Model Name : `c4ai-aya-23`\n",
    "- Rate Limit : `10` (Trial Key) and `10k` (Production Key) Requests Per Minute. [Rate Limit Page](https://docs.cohere.com/docs/rate-limits#trial-key-limitations)\n",
    "- API Credits: There is no info about pricing for aya model. [Pricing Page](https://cohere.com/pricing)\n",
    "- API Documentation: [/chat](https://docs.cohere.com/reference/chat)"
   ]
  },
  {
   "cell_type": "markdown",
   "id": "e3dc81de-b6a9-446d-9cf8-38dc547b6eab",
   "metadata": {},
   "source": [
    "### Data Exploration"
   ]
  },
  {
   "cell_type": "markdown",
   "id": "433cb2e2-158a-4de4-919a-6b821605514f",
   "metadata": {},
   "source": [
    "- `id` is same in `blip_laion_cc_sbu_558k.json` and `blip_laion_cc_sbu_558k_meta.json`\n",
    "- `blip_caption` in the metadata file relates to original file as follows\n",
    "  ```python\n",
    "      for conversation in row['conversations']:\n",
    "          if conversation['from'] == 'gpt':\n",
    "              blip_caption = conversation['value']\n",
    "  ```\n",
    "- Sample Conversation:\n",
    "  ```json\n",
    "    [\n",
    "        {\n",
    "            'from': 'human',\n",
    "            'value': 'Share a concise interpretation of the image provided.\\n<image>'\n",
    "        },\n",
    "        {\n",
    "            'from': 'gpt',\n",
    "            'value': 'the new security team is ready to take on the competition'\n",
    "        }\n",
    "    ]\n",
    "  ```\n",
    "- All the conversations are single-turn conversations in the dataset.\n",
    "- In total there 22 different set of human instructions in the dataset in which either `\\n<image>` is added as suffix or `<image>\\n` is added as prefix.\n",
    "- If we remove the prefix and suffix, there are only 11 different instructions which we need to translate."
   ]
  },
  {
   "cell_type": "code",
   "execution_count": 18,
   "id": "e874545d-321b-4e26-ab5a-75dc3c74db01",
   "metadata": {},
   "outputs": [],
   "source": [
    "import sys\n",
    "import pandas as pd\n",
    "import time\n",
    "import cupy as cp\n",
    "import json\n",
    "\n",
    "sys.path.append(\"../\")"
   ]
  },
  {
   "cell_type": "code",
   "execution_count": 8,
   "id": "788a6a1f-62bb-4692-93f4-14b4c2c27904",
   "metadata": {},
   "outputs": [
    {
     "name": "stdout",
     "output_type": "stream",
     "text": [
      "0.0039997100830078125\n"
     ]
    }
   ],
   "source": [
    "start_time = time.time()\n",
    "data_df = pd.read_json(\"../data/blip_laion_cc_sbu_100.json\")\n",
    "\n",
    "print(time.time() - start_time)"
   ]
  },
  {
   "cell_type": "code",
   "execution_count": 9,
   "id": "36987724-fa63-4519-8242-d24fafabe31a",
   "metadata": {},
   "outputs": [],
   "source": [
    "from utils.helpers import load_json"
   ]
  },
  {
   "cell_type": "code",
   "execution_count": 12,
   "id": "3721fa27-e2be-4560-8f7a-cf55e1c1cbaf",
   "metadata": {},
   "outputs": [],
   "source": [
    "data = load_json(\"../data/blip_laion_cc_sbu_100.json\")\n",
    "batch_size = 10\n",
    "total_count = len(data)"
   ]
  },
  {
   "cell_type": "code",
   "execution_count": 13,
   "id": "b7feadcd-0320-4ba0-be34-11e42c5e15d6",
   "metadata": {},
   "outputs": [],
   "source": [
    "for i in range(0, total_count, batch_size):\n",
    "    batch = data[i:i + batch_size]"
   ]
  },
  {
   "cell_type": "code",
   "execution_count": 19,
   "id": "3ec182f3-7455-4a8a-8a94-abf679d93c88",
   "metadata": {},
   "outputs": [],
   "source": [
    "conversations = [item['conversations'] for item in batch]\n",
    "conv_lengths = cp.array([len(json.dumps(conv)) for conv in conversations])\n",
    "sorted_indices = cp.argsort(conv_lengths)\n",
    "sorted_batch = [batch[i] for i in sorted_indices.get()]"
   ]
  },
  {
   "cell_type": "code",
   "execution_count": 21,
   "id": "d5094764-d47a-4a83-866d-e1f398f913bf",
   "metadata": {},
   "outputs": [
    {
     "data": {
      "text/plain": [
       "[{'id': '004271632',\n",
       "  'image': '00427/004271632.jpg',\n",
       "  'conversations': [{'from': 'human',\n",
       "    'value': 'Give a brief description of the image.\\n<image>'},\n",
       "   {'from': 'gpt', 'value': 'blue cartoon fish photo greeting card'}]},\n",
       " {'id': '004330598',\n",
       "  'image': '00433/004330598.jpg',\n",
       "  'conversations': [{'from': 'human',\n",
       "    'value': 'Give a brief description of the image.\\n<image>'},\n",
       "   {'from': 'gpt', 'value': 'fundamentals of finite element analysis'}]},\n",
       " {'id': '002846089',\n",
       "  'image': '00284/002846089.jpg',\n",
       "  'conversations': [{'from': 'human',\n",
       "    'value': 'Render a clear and concise summary of the photo.\\n<image>'},\n",
       "   {'from': 'gpt', 'value': 'an image of vintage reindeer sweater'}]},\n",
       " {'id': '003174711',\n",
       "  'image': '00317/003174711.jpg',\n",
       "  'conversations': [{'from': 'human',\n",
       "    'value': '<image>\\nWhat is in the photo?'},\n",
       "   {'from': 'gpt',\n",
       "    'value': '1 month full page seo traffic from seo for the most profitable website'}]},\n",
       " {'id': '001377789',\n",
       "  'image': '00137/001377789.jpg',\n",
       "  'conversations': [{'from': 'human',\n",
       "    'value': 'Write a terse but informative summary of the picture.\\n<image>'},\n",
       "   {'from': 'gpt', 'value': 'the young lady in leopard print pencil skirt'}]},\n",
       " {'id': '003838999',\n",
       "  'image': '00383/003838999.jpg',\n",
       "  'conversations': [{'from': 'human',\n",
       "    'value': 'Share a concise interpretation of the image provided.\\n<image>'},\n",
       "   {'from': 'gpt',\n",
       "    'value': \"assassin's revelations ultimatum edition - pc dvd\"}]},\n",
       " {'id': '000176395',\n",
       "  'image': '00017/000176395.jpg',\n",
       "  'conversations': [{'from': 'human',\n",
       "    'value': '<image>\\nRender a clear and concise summary of the photo.'},\n",
       "   {'from': 'gpt',\n",
       "    'value': 'cut paper on a piece of craft paper and glue to create the bow'}]},\n",
       " {'id': '003184510',\n",
       "  'image': '00318/003184510.jpg',\n",
       "  'conversations': [{'from': 'human',\n",
       "    'value': '<image>\\nDescribe the image concisely.'},\n",
       "   {'from': 'gpt',\n",
       "    'value': 'the quote on positiveness is one of the most difficult things people take different roads'}]},\n",
       " {'id': '000287377',\n",
       "  'image': '00028/000287377.jpg',\n",
       "  'conversations': [{'from': 'human',\n",
       "    'value': 'Give a brief description of the image.\\n<image>'},\n",
       "   {'from': 'gpt',\n",
       "    'value': \"england women's cricketers batsman person plays the ball as she hits out during the cricket international match against\"}]},\n",
       " {'id': '003662504',\n",
       "  'image': '00366/003662504.jpg',\n",
       "  'conversations': [{'from': 'human',\n",
       "    'value': '<image>\\nWrite a terse but informative summary of the picture.'},\n",
       "   {'from': 'gpt',\n",
       "    'value': \"the graph shows the trend of carbon dioxide concentrations in earth's atmosphere as compared to the percentage of greenhouse\"}]}]"
      ]
     },
     "execution_count": 21,
     "metadata": {},
     "output_type": "execute_result"
    }
   ],
   "source": [
    "unpacked_batch = []\n",
    "for convo in unpacked_batch:\n",
    "    info = {\n",
    "        'id'"
   ]
  },
  {
   "cell_type": "code",
   "execution_count": 20,
   "id": "a4cb0f35-bcce-4356-83d6-b809a42595a9",
   "metadata": {},
   "outputs": [
    {
     "data": {
      "text/plain": [
       "[[{'from': 'human',\n",
       "   'value': 'Render a clear and concise summary of the photo.\\n<image>'},\n",
       "  {'from': 'gpt', 'value': 'an image of vintage reindeer sweater'}],\n",
       " [{'from': 'human', 'value': '<image>\\nDescribe the image concisely.'},\n",
       "  {'from': 'gpt',\n",
       "   'value': 'the quote on positiveness is one of the most difficult things people take different roads'}],\n",
       " [{'from': 'human',\n",
       "   'value': 'Give a brief description of the image.\\n<image>'},\n",
       "  {'from': 'gpt',\n",
       "   'value': \"england women's cricketers batsman person plays the ball as she hits out during the cricket international match against\"}],\n",
       " [{'from': 'human',\n",
       "   'value': 'Give a brief description of the image.\\n<image>'},\n",
       "  {'from': 'gpt', 'value': 'fundamentals of finite element analysis'}],\n",
       " [{'from': 'human',\n",
       "   'value': '<image>\\nRender a clear and concise summary of the photo.'},\n",
       "  {'from': 'gpt',\n",
       "   'value': 'cut paper on a piece of craft paper and glue to create the bow'}],\n",
       " [{'from': 'human',\n",
       "   'value': 'Give a brief description of the image.\\n<image>'},\n",
       "  {'from': 'gpt', 'value': 'blue cartoon fish photo greeting card'}],\n",
       " [{'from': 'human',\n",
       "   'value': '<image>\\nWrite a terse but informative summary of the picture.'},\n",
       "  {'from': 'gpt',\n",
       "   'value': \"the graph shows the trend of carbon dioxide concentrations in earth's atmosphere as compared to the percentage of greenhouse\"}],\n",
       " [{'from': 'human', 'value': '<image>\\nWhat is in the photo?'},\n",
       "  {'from': 'gpt',\n",
       "   'value': '1 month full page seo traffic from seo for the most profitable website'}],\n",
       " [{'from': 'human',\n",
       "   'value': 'Write a terse but informative summary of the picture.\\n<image>'},\n",
       "  {'from': 'gpt', 'value': 'the young lady in leopard print pencil skirt'}],\n",
       " [{'from': 'human',\n",
       "   'value': 'Share a concise interpretation of the image provided.\\n<image>'},\n",
       "  {'from': 'gpt',\n",
       "   'value': \"assassin's revelations ultimatum edition - pc dvd\"}]]"
      ]
     },
     "execution_count": 20,
     "metadata": {},
     "output_type": "execute_result"
    }
   ],
   "source": [
    "conversations"
   ]
  },
  {
   "cell_type": "code",
   "execution_count": 3,
   "id": "daf943c8-deb7-4cc7-bc07-02792feaecb4",
   "metadata": {},
   "outputs": [],
   "source": [
    "metadata_df = pd.read_json(\"../data/blip_laion_cc_sbu_558k_meta.json\")"
   ]
  },
  {
   "cell_type": "code",
   "execution_count": 4,
   "id": "28e575b3-baa0-4ba1-ba32-cb57de46d89f",
   "metadata": {},
   "outputs": [
    {
     "data": {
      "text/html": [
       "<div>\n",
       "<style scoped>\n",
       "    .dataframe tbody tr th:only-of-type {\n",
       "        vertical-align: middle;\n",
       "    }\n",
       "\n",
       "    .dataframe tbody tr th {\n",
       "        vertical-align: top;\n",
       "    }\n",
       "\n",
       "    .dataframe thead th {\n",
       "        text-align: right;\n",
       "    }\n",
       "</style>\n",
       "<table border=\"1\" class=\"dataframe\">\n",
       "  <thead>\n",
       "    <tr style=\"text-align: right;\">\n",
       "      <th></th>\n",
       "      <th>id</th>\n",
       "      <th>image</th>\n",
       "      <th>conversations</th>\n",
       "    </tr>\n",
       "  </thead>\n",
       "  <tbody>\n",
       "    <tr>\n",
       "      <th>0</th>\n",
       "      <td>4539375</td>\n",
       "      <td>00453/004539375.jpg</td>\n",
       "      <td>[{'from': 'human', 'value': 'Render a clear an...</td>\n",
       "    </tr>\n",
       "    <tr>\n",
       "      <th>1</th>\n",
       "      <td>2239345</td>\n",
       "      <td>00223/002239345.jpg</td>\n",
       "      <td>[{'from': 'human', 'value': 'Write a terse but...</td>\n",
       "    </tr>\n",
       "    <tr>\n",
       "      <th>2</th>\n",
       "      <td>5947502</td>\n",
       "      <td>00594/005947502.jpg</td>\n",
       "      <td>[{'from': 'human', 'value': '&lt;image&gt;\n",
       "What is t...</td>\n",
       "    </tr>\n",
       "    <tr>\n",
       "      <th>3</th>\n",
       "      <td>5116462</td>\n",
       "      <td>00511/005116462.jpg</td>\n",
       "      <td>[{'from': 'human', 'value': '&lt;image&gt;\n",
       "Render a ...</td>\n",
       "    </tr>\n",
       "    <tr>\n",
       "      <th>4</th>\n",
       "      <td>2017886</td>\n",
       "      <td>00201/002017886.jpg</td>\n",
       "      <td>[{'from': 'human', 'value': 'What is in the ph...</td>\n",
       "    </tr>\n",
       "  </tbody>\n",
       "</table>\n",
       "</div>"
      ],
      "text/plain": [
       "        id                image  \\\n",
       "0  4539375  00453/004539375.jpg   \n",
       "1  2239345  00223/002239345.jpg   \n",
       "2  5947502  00594/005947502.jpg   \n",
       "3  5116462  00511/005116462.jpg   \n",
       "4  2017886  00201/002017886.jpg   \n",
       "\n",
       "                                       conversations  \n",
       "0  [{'from': 'human', 'value': 'Render a clear an...  \n",
       "1  [{'from': 'human', 'value': 'Write a terse but...  \n",
       "2  [{'from': 'human', 'value': '<image>\n",
       "What is t...  \n",
       "3  [{'from': 'human', 'value': '<image>\n",
       "Render a ...  \n",
       "4  [{'from': 'human', 'value': 'What is in the ph...  "
      ]
     },
     "execution_count": 4,
     "metadata": {},
     "output_type": "execute_result"
    }
   ],
   "source": [
    "data_df.head()"
   ]
  },
  {
   "cell_type": "code",
   "execution_count": 5,
   "id": "3e835650-d47e-46d9-bc59-87fcea45a50e",
   "metadata": {},
   "outputs": [
    {
     "data": {
      "text/html": [
       "<div>\n",
       "<style scoped>\n",
       "    .dataframe tbody tr th:only-of-type {\n",
       "        vertical-align: middle;\n",
       "    }\n",
       "\n",
       "    .dataframe tbody tr th {\n",
       "        vertical-align: top;\n",
       "    }\n",
       "\n",
       "    .dataframe thead th {\n",
       "        text-align: right;\n",
       "    }\n",
       "</style>\n",
       "<table border=\"1\" class=\"dataframe\">\n",
       "  <thead>\n",
       "    <tr style=\"text-align: right;\">\n",
       "      <th></th>\n",
       "      <th>id</th>\n",
       "      <th>image</th>\n",
       "      <th>blip_caption</th>\n",
       "      <th>url</th>\n",
       "    </tr>\n",
       "  </thead>\n",
       "  <tbody>\n",
       "    <tr>\n",
       "      <th>0</th>\n",
       "      <td>4539375</td>\n",
       "      <td>00453/004539375.jpg</td>\n",
       "      <td>select luxury furniture 3 - inch gel memory fo...</td>\n",
       "      <td>http://ec1.ostkcdn.com/images/products/8111140...</td>\n",
       "    </tr>\n",
       "    <tr>\n",
       "      <th>1</th>\n",
       "      <td>2239345</td>\n",
       "      <td>00223/002239345.jpg</td>\n",
       "      <td>a grey watch with an army style strap</td>\n",
       "      <td>https://ak1.ostkcdn.com/images/products/119322...</td>\n",
       "    </tr>\n",
       "    <tr>\n",
       "      <th>2</th>\n",
       "      <td>5947502</td>\n",
       "      <td>00594/005947502.jpg</td>\n",
       "      <td>a dragon kite flying in the blue sky stock images</td>\n",
       "      <td>https://thumbs.dreamstime.com/b/fliegen-dragon...</td>\n",
       "    </tr>\n",
       "    <tr>\n",
       "      <th>3</th>\n",
       "      <td>5116462</td>\n",
       "      <td>00511/005116462.jpg</td>\n",
       "      <td>$ 10 - cute cheap printed mini dress - khaki m...</td>\n",
       "      <td>https://media.shopscover.com/media/product/sm/...</td>\n",
       "    </tr>\n",
       "    <tr>\n",
       "      <th>4</th>\n",
       "      <td>2017886</td>\n",
       "      <td>00201/002017886.jpg</td>\n",
       "      <td>augmented reality using aruco markers in opencv</td>\n",
       "      <td>https://www.learnopencv.com/wp-content/uploads...</td>\n",
       "    </tr>\n",
       "  </tbody>\n",
       "</table>\n",
       "</div>"
      ],
      "text/plain": [
       "        id                image  \\\n",
       "0  4539375  00453/004539375.jpg   \n",
       "1  2239345  00223/002239345.jpg   \n",
       "2  5947502  00594/005947502.jpg   \n",
       "3  5116462  00511/005116462.jpg   \n",
       "4  2017886  00201/002017886.jpg   \n",
       "\n",
       "                                        blip_caption  \\\n",
       "0  select luxury furniture 3 - inch gel memory fo...   \n",
       "1              a grey watch with an army style strap   \n",
       "2  a dragon kite flying in the blue sky stock images   \n",
       "3  $ 10 - cute cheap printed mini dress - khaki m...   \n",
       "4    augmented reality using aruco markers in opencv   \n",
       "\n",
       "                                                 url  \n",
       "0  http://ec1.ostkcdn.com/images/products/8111140...  \n",
       "1  https://ak1.ostkcdn.com/images/products/119322...  \n",
       "2  https://thumbs.dreamstime.com/b/fliegen-dragon...  \n",
       "3  https://media.shopscover.com/media/product/sm/...  \n",
       "4  https://www.learnopencv.com/wp-content/uploads...  "
      ]
     },
     "execution_count": 5,
     "metadata": {},
     "output_type": "execute_result"
    }
   ],
   "source": [
    "metadata_df.head()"
   ]
  },
  {
   "cell_type": "code",
   "execution_count": 6,
   "id": "5aa9797d-c6d8-42df-a42d-d5237509a9cf",
   "metadata": {},
   "outputs": [
    {
     "name": "stdout",
     "output_type": "stream",
     "text": [
      "No. of data rows which has different gpt response than the blip caption in the metadata = 0\n",
      "No. of Multi-turn Conversations = 0\n",
      "No. of Distinct Human Instructions With Suffix and Prefix = 22\n",
      "No. of Distinct Human Instructions Without Suffix and Prefix 11\n"
     ]
    }
   ],
   "source": [
    "different_gpt_response_and_blip_caption = []\n",
    "multi_turn_conversations = []\n",
    "human_instructions_with_suffix_prefix = []\n",
    "human_instructions_without_suffix_prefix = []\n",
    "\n",
    "for index, row in data_df.iterrows():\n",
    "    conversations = row['conversations']\n",
    "    if len(conversations) > 2:\n",
    "        multi_turn_conversations.append(row['id'])\n",
    "        \n",
    "    for conversation in row['conversations']:\n",
    "        if conversation['from'] == 'human':\n",
    "            instruction = conversation['value'] \n",
    "            processed_instruction = instruction.replace(\"\\n<image>\", \"\").replace(\"<image>\\n\", \"\")\n",
    "            human_instructions_with_suffix_prefix.append(instruction)\n",
    "            human_instructions_without_suffix_prefix.append(processed_instruction)\n",
    "\n",
    "        if conversation['from'] == 'gpt' and conversation['value'] != metadata_df.iloc[index]['blip_caption']:\n",
    "            different_gpt_response_and_blip_caption.append(row['id'])\n",
    "\n",
    "\n",
    "print(f\"No. of data rows which has different gpt response than the blip caption in the metadata = {len(different_gpt_response_and_blip_caption)}\")\n",
    "print(f\"No. of Multi-turn Conversations = {len(multi_turn_conversations)}\")\n",
    "print(f\"No. of Distinct Human Instructions With Suffix and Prefix = {len(set(human_instructions_with_suffix_prefix))}\")\n",
    "print(f\"No. of Distinct Human Instructions Without Suffix and Prefix {len(set(human_instructions_without_suffix_prefix))}\")"
   ]
  },
  {
   "cell_type": "code",
   "execution_count": 8,
   "id": "ac50eefd-ea1c-4465-ab3c-4cdae8a7230b",
   "metadata": {},
   "outputs": [
    {
     "data": {
      "text/plain": [
       "{'Describe the image concisely.',\n",
       " 'Give a brief description of the image.',\n",
       " 'Give a short and clear explanation of the subsequent image.',\n",
       " \"Present a compact description of the photo's key features.\",\n",
       " 'Provide a brief description of the given image.',\n",
       " 'Render a clear and concise summary of the photo.',\n",
       " 'Share a concise interpretation of the image provided.',\n",
       " 'Summarize the visual content of the image.',\n",
       " 'What is in the photo?',\n",
       " 'What is this?',\n",
       " 'Write a terse but informative summary of the picture.'}"
      ]
     },
     "execution_count": 8,
     "metadata": {},
     "output_type": "execute_result"
    }
   ],
   "source": [
    "set(human_instructions_without_suffix_prefix)"
   ]
  },
  {
   "cell_type": "code",
   "execution_count": null,
   "id": "6b217907-6346-47fa-b036-586049dbadce",
   "metadata": {},
   "outputs": [],
   "source": []
  }
 ],
 "metadata": {
  "kernelspec": {
   "display_name": "maya",
   "language": "python",
   "name": "maya"
  },
  "language_info": {
   "codemirror_mode": {
    "name": "ipython",
    "version": 3
   },
   "file_extension": ".py",
   "mimetype": "text/x-python",
   "name": "python",
   "nbconvert_exporter": "python",
   "pygments_lexer": "ipython3",
   "version": "3.12.3"
  }
 },
 "nbformat": 4,
 "nbformat_minor": 5
}
